{
 "cells": [
  {
   "cell_type": "markdown",
   "id": "ddc2b0b1",
   "metadata": {},
   "source": [
    "### INSTALL AND IMPORT DEPENDENCIES"
   ]
  },
  {
   "cell_type": "code",
   "execution_count": 1,
   "id": "b8412e84",
   "metadata": {},
   "outputs": [
    {
     "name": "stdout",
     "output_type": "stream",
     "text": [
      "Collecting torch\n",
      "  Downloading torch-1.10.0-cp38-none-macosx_10_9_x86_64.whl (147.1 MB)\n",
      "\u001b[K     |████████████████████████████████| 147.1 MB 33 kB/s  eta 0:00:01     |█████████▎                      | 42.9 MB 10.8 MB/s eta 0:00:10\n",
      "\u001b[?25hCollecting torchvision\n",
      "  Downloading torchvision-0.11.1-cp38-cp38-macosx_10_9_x86_64.whl (1.2 MB)\n",
      "\u001b[K     |████████████████████████████████| 1.2 MB 7.7 MB/s eta 0:00:01\n",
      "\u001b[?25hCollecting torchaudio\n",
      "  Downloading torchaudio-0.10.0-cp38-cp38-macosx_10_9_x86_64.whl (2.4 MB)\n",
      "\u001b[K     |████████████████████████████████| 2.4 MB 8.2 MB/s eta 0:00:01\n",
      "\u001b[?25hRequirement already satisfied: typing-extensions in /opt/anaconda3/lib/python3.8/site-packages (from torch) (3.7.4.3)\n",
      "Requirement already satisfied: pillow!=8.3.0,>=5.3.0 in /opt/anaconda3/lib/python3.8/site-packages (from torchvision) (8.2.0)\n",
      "Requirement already satisfied: numpy in /Users/lizychapman/.local/lib/python3.8/site-packages (from torchvision) (1.21.3)\n",
      "Installing collected packages: torch, torchvision, torchaudio\n",
      "Successfully installed torch-1.10.0 torchaudio-0.10.0 torchvision-0.11.1\n"
     ]
    }
   ],
   "source": [
    "!pip3 install torch torchvision torchaudio"
   ]
  },
  {
   "cell_type": "code",
   "execution_count": 2,
   "id": "99f04a85",
   "metadata": {},
   "outputs": [
    {
     "name": "stdout",
     "output_type": "stream",
     "text": [
      "Collecting transformers\n",
      "  Downloading transformers-4.12.5-py3-none-any.whl (3.1 MB)\n",
      "\u001b[K     |████████████████████████████████| 3.1 MB 5.7 MB/s eta 0:00:01\n",
      "\u001b[?25hRequirement already satisfied: requests in /opt/anaconda3/lib/python3.8/site-packages (2.25.1)\n",
      "Requirement already satisfied: beautifulsoup4 in /opt/anaconda3/lib/python3.8/site-packages (4.9.3)\n",
      "Requirement already satisfied: pandas in /opt/anaconda3/lib/python3.8/site-packages (1.2.4)\n",
      "Requirement already satisfied: numpy in /Users/lizychapman/.local/lib/python3.8/site-packages (1.21.3)\n",
      "Requirement already satisfied: soupsieve>1.2 in /opt/anaconda3/lib/python3.8/site-packages (from beautifulsoup4) (2.2.1)\n",
      "Requirement already satisfied: python-dateutil>=2.7.3 in /opt/anaconda3/lib/python3.8/site-packages (from pandas) (2.8.1)\n",
      "Requirement already satisfied: pytz>=2017.3 in /opt/anaconda3/lib/python3.8/site-packages (from pandas) (2021.1)\n",
      "Requirement already satisfied: six>=1.5 in /opt/anaconda3/lib/python3.8/site-packages (from python-dateutil>=2.7.3->pandas) (1.15.0)\n",
      "Requirement already satisfied: certifi>=2017.4.17 in /opt/anaconda3/lib/python3.8/site-packages (from requests) (2020.12.5)\n",
      "Requirement already satisfied: idna<3,>=2.5 in /opt/anaconda3/lib/python3.8/site-packages (from requests) (2.10)\n",
      "Requirement already satisfied: urllib3<1.27,>=1.21.1 in /opt/anaconda3/lib/python3.8/site-packages (from requests) (1.26.4)\n",
      "Requirement already satisfied: chardet<5,>=3.0.2 in /opt/anaconda3/lib/python3.8/site-packages (from requests) (4.0.0)\n",
      "Requirement already satisfied: tqdm>=4.27 in /opt/anaconda3/lib/python3.8/site-packages (from transformers) (4.59.0)\n",
      "Requirement already satisfied: packaging>=20.0 in /opt/anaconda3/lib/python3.8/site-packages (from transformers) (20.9)\n",
      "Collecting tokenizers<0.11,>=0.10.1\n",
      "  Downloading tokenizers-0.10.3-cp38-cp38-macosx_10_11_x86_64.whl (2.2 MB)\n",
      "\u001b[K     |████████████████████████████████| 2.2 MB 23.2 MB/s eta 0:00:01\n",
      "\u001b[?25hCollecting huggingface-hub<1.0,>=0.1.0\n",
      "  Downloading huggingface_hub-0.2.0-py3-none-any.whl (61 kB)\n",
      "\u001b[K     |████████████████████████████████| 61 kB 694 kB/s  eta 0:00:01\n",
      "\u001b[?25hRequirement already satisfied: filelock in /opt/anaconda3/lib/python3.8/site-packages (from transformers) (3.0.12)\n",
      "Requirement already satisfied: regex!=2019.12.17 in /Users/lizychapman/.local/lib/python3.8/site-packages (from transformers) (2021.10.23)\n",
      "Requirement already satisfied: pyyaml>=5.1 in /opt/anaconda3/lib/python3.8/site-packages (from transformers) (5.4.1)\n",
      "Collecting sacremoses\n",
      "  Downloading sacremoses-0.0.46-py3-none-any.whl (895 kB)\n",
      "\u001b[K     |████████████████████████████████| 895 kB 8.7 MB/s eta 0:00:01\n",
      "\u001b[?25hRequirement already satisfied: typing-extensions>=3.7.4.3 in /opt/anaconda3/lib/python3.8/site-packages (from huggingface-hub<1.0,>=0.1.0->transformers) (3.7.4.3)\n",
      "Requirement already satisfied: pyparsing>=2.0.2 in /opt/anaconda3/lib/python3.8/site-packages (from packaging>=20.0->transformers) (2.4.7)\n",
      "Requirement already satisfied: joblib in /opt/anaconda3/lib/python3.8/site-packages (from sacremoses->transformers) (1.0.1)\n",
      "Requirement already satisfied: click in /opt/anaconda3/lib/python3.8/site-packages (from sacremoses->transformers) (7.1.2)\n",
      "Installing collected packages: tokenizers, sacremoses, huggingface-hub, transformers\n",
      "Successfully installed huggingface-hub-0.2.0 sacremoses-0.0.46 tokenizers-0.10.3 transformers-4.12.5\n"
     ]
    }
   ],
   "source": [
    "!pip install transformers requests beautifulsoup4 pandas numpy"
   ]
  },
  {
   "cell_type": "markdown",
   "id": "b7086738",
   "metadata": {},
   "source": [
    "We have installed the dependencies, we now need to install them into the notebook."
   ]
  },
  {
   "cell_type": "code",
   "execution_count": 3,
   "id": "62f64a8b",
   "metadata": {},
   "outputs": [],
   "source": [
    "from transformers import AutoTokenizer, AutoModelForSequenceClassification\n",
    "import torch\n",
    "import requests\n",
    "from bs4 import BeautifulSoup\n",
    "import re"
   ]
  },
  {
   "cell_type": "markdown",
   "id": "45ca448b",
   "metadata": {},
   "source": [
    "### Setup Model"
   ]
  },
  {
   "cell_type": "code",
   "execution_count": 4,
   "id": "4c48be8f",
   "metadata": {},
   "outputs": [
    {
     "data": {
      "application/vnd.jupyter.widget-view+json": {
       "model_id": "7f974dba8e59432eb028a61e61f30519",
       "version_major": 2,
       "version_minor": 0
      },
      "text/plain": [
       "Downloading:   0%|          | 0.00/39.0 [00:00<?, ?B/s]"
      ]
     },
     "metadata": {},
     "output_type": "display_data"
    },
    {
     "data": {
      "application/vnd.jupyter.widget-view+json": {
       "model_id": "6e08c9c14932412d853d26e6cae09c29",
       "version_major": 2,
       "version_minor": 0
      },
      "text/plain": [
       "Downloading:   0%|          | 0.00/953 [00:00<?, ?B/s]"
      ]
     },
     "metadata": {},
     "output_type": "display_data"
    },
    {
     "data": {
      "application/vnd.jupyter.widget-view+json": {
       "model_id": "22ed2fd2dca64d77b08db18b37f4639a",
       "version_major": 2,
       "version_minor": 0
      },
      "text/plain": [
       "Downloading:   0%|          | 0.00/851k [00:00<?, ?B/s]"
      ]
     },
     "metadata": {},
     "output_type": "display_data"
    },
    {
     "data": {
      "application/vnd.jupyter.widget-view+json": {
       "model_id": "dbc09de1b8634abf8478f2b27364739b",
       "version_major": 2,
       "version_minor": 0
      },
      "text/plain": [
       "Downloading:   0%|          | 0.00/112 [00:00<?, ?B/s]"
      ]
     },
     "metadata": {},
     "output_type": "display_data"
    },
    {
     "data": {
      "application/vnd.jupyter.widget-view+json": {
       "model_id": "8acae267323241c6a7a066d3663bf095",
       "version_major": 2,
       "version_minor": 0
      },
      "text/plain": [
       "Downloading:   0%|          | 0.00/638M [00:00<?, ?B/s]"
      ]
     },
     "metadata": {},
     "output_type": "display_data"
    }
   ],
   "source": [
    "tokenizer = AutoTokenizer.from_pretrained('nlptown/bert-base-multilingual-uncased-sentiment')\n",
    "\n",
    "model = AutoModelForSequenceClassification.from_pretrained('nlptown/bert-base-multilingual-uncased-sentiment')"
   ]
  },
  {
   "cell_type": "markdown",
   "id": "13d7ad9e",
   "metadata": {},
   "source": [
    "### Encode and Calculate Sentiment"
   ]
  },
  {
   "cell_type": "code",
   "execution_count": 5,
   "id": "31f2b92b",
   "metadata": {},
   "outputs": [],
   "source": [
    "tokens = tokenizer.encode('This experience was awful, hated every minute, a waste of money and time', return_tensors='pt')"
   ]
  },
  {
   "cell_type": "code",
   "execution_count": 6,
   "id": "f9c46ade",
   "metadata": {},
   "outputs": [
    {
     "data": {
      "text/plain": [
       "tensor([[  101, 10372, 16277, 10140, 37079, 15836,   117, 39487, 10163, 13667,\n",
       "         18471,   117,   143, 43346, 10108, 15033, 10110, 10573,   102]])"
      ]
     },
     "execution_count": 6,
     "metadata": {},
     "output_type": "execute_result"
    }
   ],
   "source": [
    "tokens"
   ]
  },
  {
   "cell_type": "markdown",
   "id": "611cadc9",
   "metadata": {},
   "source": [
    "The string has been converted into a sequence of numbers."
   ]
  },
  {
   "cell_type": "markdown",
   "id": "ea2ad47f",
   "metadata": {},
   "source": [
    "We can also convert it back, make sure to only include the list of numbers with [0]."
   ]
  },
  {
   "cell_type": "code",
   "execution_count": 7,
   "id": "126bf89b",
   "metadata": {},
   "outputs": [
    {
     "data": {
      "text/plain": [
       "'[CLS] this experience was awful, hated every minute, a waste of money and time [SEP]'"
      ]
     },
     "execution_count": 7,
     "metadata": {},
     "output_type": "execute_result"
    }
   ],
   "source": [
    "tokenizer.decode(tokens[0])"
   ]
  },
  {
   "cell_type": "markdown",
   "id": "b9502b62",
   "metadata": {},
   "source": [
    "Now pass the sequence of numbers to the model."
   ]
  },
  {
   "cell_type": "code",
   "execution_count": 8,
   "id": "d753f989",
   "metadata": {},
   "outputs": [],
   "source": [
    "result = model(tokens)"
   ]
  },
  {
   "cell_type": "code",
   "execution_count": 9,
   "id": "2ff3904e",
   "metadata": {},
   "outputs": [
    {
     "data": {
      "text/plain": [
       "SequenceClassifierOutput(loss=None, logits=tensor([[ 4.9333,  2.0599, -0.8983, -2.9996, -2.2736]],\n",
       "       grad_fn=<AddmmBackward0>), hidden_states=None, attentions=None)"
      ]
     },
     "execution_count": 9,
     "metadata": {},
     "output_type": "execute_result"
    }
   ],
   "source": [
    "result"
   ]
  },
  {
   "cell_type": "markdown",
   "id": "e2855884",
   "metadata": {},
   "source": [
    "The output is an encoded list of scores, the position with the highest score in the list represents the sentiment rating, here 4.9333 is in position 0. This is the worst score and so a very negative sentiment, a 1 out of 5. "
   ]
  },
  {
   "cell_type": "markdown",
   "id": "f96887e2",
   "metadata": {},
   "source": [
    "We can make this score easy to spot straight away."
   ]
  },
  {
   "cell_type": "code",
   "execution_count": 11,
   "id": "bb5ca0a2",
   "metadata": {},
   "outputs": [
    {
     "data": {
      "text/plain": [
       "tensor(0)"
      ]
     },
     "execution_count": 11,
     "metadata": {},
     "output_type": "execute_result"
    }
   ],
   "source": [
    "torch.argmax(result.logits)"
   ]
  },
  {
   "cell_type": "markdown",
   "id": "059f5beb",
   "metadata": {},
   "source": [
    "Lets turn it into an accessible result."
   ]
  },
  {
   "cell_type": "code",
   "execution_count": 13,
   "id": "61aed9f2",
   "metadata": {},
   "outputs": [
    {
     "name": "stdout",
     "output_type": "stream",
     "text": [
      "1 out of 5\n"
     ]
    }
   ],
   "source": [
    "print( int(torch.argmax(result.logits))+1, 'out of 5')"
   ]
  },
  {
   "cell_type": "markdown",
   "id": "245f33c8",
   "metadata": {},
   "source": [
    "### Collect Reviews"
   ]
  },
  {
   "cell_type": "code",
   "execution_count": 16,
   "id": "f3b58c39",
   "metadata": {},
   "outputs": [],
   "source": [
    "r = requests.get('https://www.yelp.co.uk/biz/the-british-museum-london')\n",
    "soup = BeautifulSoup(r.text, 'html.parser')\n",
    "regex = re.compile('.*comment.*')\n",
    "results = soup.find_all('p', {'class':regex})\n",
    "reviews = [result.text for result in results]  #this gets rid of all the html data and just gives us the comment."
   ]
  },
  {
   "cell_type": "code",
   "execution_count": 17,
   "id": "6c1b6710",
   "metadata": {},
   "outputs": [
    {
     "data": {
      "text/plain": [
       "'Come feast your eyes on the finest collection of historical artifacts imperialism can buy! Jokes and legitimate discussion about the complicated topic of \"stolen history\" aside, the British Museum is a magnificent collection of history and art from around the world and throughout the ages. From Egyptian sculptures and monuments (including the Rosetta Stone, an ancient tablet which proved the key to deciphering Egyptian hieroglyphics) to contemporary and traditional African woodcarvings to the Mitsubishi Corporation Japanese Galleries (including the famous \"Great Wave\" painting), the British Museum, like another beloved British icon, can take you on a fascinating trip through time and space.The museum is free to visit, and although pre-booked tickets are recommended, in my experience I haven\\'t needed them. There are also a few premium rotating exhibitions which charge an entrance fee (or are free for members), such as the Nero exhibit on display currently.Overall, the British Museum is a delightful pastime for tourists and locals alike! Come visit.'"
      ]
     },
     "execution_count": 17,
     "metadata": {},
     "output_type": "execute_result"
    }
   ],
   "source": [
    "reviews[0]"
   ]
  },
  {
   "cell_type": "markdown",
   "id": "0cec6039",
   "metadata": {},
   "source": [
    "### Load Reviews into Dataframe and Score "
   ]
  },
  {
   "cell_type": "code",
   "execution_count": 19,
   "id": "0af80e01",
   "metadata": {},
   "outputs": [],
   "source": [
    "import pandas as pd\n",
    "import numpy as np"
   ]
  },
  {
   "cell_type": "code",
   "execution_count": 21,
   "id": "9cf8dcf5",
   "metadata": {},
   "outputs": [],
   "source": [
    "df = pd.DataFrame(np.array(reviews), columns=['review'])"
   ]
  },
  {
   "cell_type": "code",
   "execution_count": 25,
   "id": "594501be",
   "metadata": {},
   "outputs": [],
   "source": [
    "#df.head()  #gives first 5 reviews"
   ]
  },
  {
   "cell_type": "code",
   "execution_count": 26,
   "id": "84bde626",
   "metadata": {},
   "outputs": [],
   "source": [
    "#df.tail()  #gives last 5 reviews"
   ]
  },
  {
   "cell_type": "code",
   "execution_count": 28,
   "id": "018080cc",
   "metadata": {},
   "outputs": [
    {
     "data": {
      "text/plain": [
       "'Come feast your eyes on the finest collection of historical artifacts imperialism can buy! Jokes and legitimate discussion about the complicated topic of \"stolen history\" aside, the British Museum is a magnificent collection of history and art from around the world and throughout the ages. From Egyptian sculptures and monuments (including the Rosetta Stone, an ancient tablet which proved the key to deciphering Egyptian hieroglyphics) to contemporary and traditional African woodcarvings to the Mitsubishi Corporation Japanese Galleries (including the famous \"Great Wave\" painting), the British Museum, like another beloved British icon, can take you on a fascinating trip through time and space.The museum is free to visit, and although pre-booked tickets are recommended, in my experience I haven\\'t needed them. There are also a few premium rotating exhibitions which charge an entrance fee (or are free for members), such as the Nero exhibit on display currently.Overall, the British Museum is a delightful pastime for tourists and locals alike! Come visit.'"
      ]
     },
     "execution_count": 28,
     "metadata": {},
     "output_type": "execute_result"
    }
   ],
   "source": [
    "df['review'].iloc[0]  #retrieves the first review"
   ]
  },
  {
   "cell_type": "markdown",
   "id": "7167c884",
   "metadata": {},
   "source": [
    "Now lets make a function to combine it all."
   ]
  },
  {
   "cell_type": "code",
   "execution_count": 30,
   "id": "08658263",
   "metadata": {},
   "outputs": [],
   "source": [
    "def sentiment_score(reviews):\n",
    "    tokens = tokenizer.encode(reviews, return_tensors='pt')\n",
    "    result = model(tokens)\n",
    "    return int(torch.argmax(result.logits))+1"
   ]
  },
  {
   "cell_type": "code",
   "execution_count": 31,
   "id": "a8e5d422",
   "metadata": {},
   "outputs": [
    {
     "data": {
      "text/plain": [
       "5"
      ]
     },
     "execution_count": 31,
     "metadata": {},
     "output_type": "execute_result"
    }
   ],
   "source": [
    "sentiment_score(df['review'].iloc[0])"
   ]
  },
  {
   "cell_type": "markdown",
   "id": "a50f8f8e",
   "metadata": {},
   "source": [
    "We now have the sentiment score for just the first review in the dataframe."
   ]
  },
  {
   "cell_type": "code",
   "execution_count": 36,
   "id": "afaee111",
   "metadata": {},
   "outputs": [],
   "source": [
    "df['sentiment'] = df['review'].apply(lambda x: sentiment_score(x[:512]))  #the pipeline is limited to 512 tokens"
   ]
  },
  {
   "cell_type": "code",
   "execution_count": 37,
   "id": "4f469288",
   "metadata": {},
   "outputs": [
    {
     "data": {
      "text/html": [
       "<div>\n",
       "<style scoped>\n",
       "    .dataframe tbody tr th:only-of-type {\n",
       "        vertical-align: middle;\n",
       "    }\n",
       "\n",
       "    .dataframe tbody tr th {\n",
       "        vertical-align: top;\n",
       "    }\n",
       "\n",
       "    .dataframe thead th {\n",
       "        text-align: right;\n",
       "    }\n",
       "</style>\n",
       "<table border=\"1\" class=\"dataframe\">\n",
       "  <thead>\n",
       "    <tr style=\"text-align: right;\">\n",
       "      <th></th>\n",
       "      <th>review</th>\n",
       "      <th>sentiment</th>\n",
       "    </tr>\n",
       "  </thead>\n",
       "  <tbody>\n",
       "    <tr>\n",
       "      <th>0</th>\n",
       "      <td>Come feast your eyes on the finest collection ...</td>\n",
       "      <td>5</td>\n",
       "    </tr>\n",
       "    <tr>\n",
       "      <th>1</th>\n",
       "      <td>[Pre-COVID post]Absolutely gorgeous museum wit...</td>\n",
       "      <td>5</td>\n",
       "    </tr>\n",
       "    <tr>\n",
       "      <th>2</th>\n",
       "      <td>I love that British museum is free. I've been ...</td>\n",
       "      <td>5</td>\n",
       "    </tr>\n",
       "    <tr>\n",
       "      <th>3</th>\n",
       "      <td>Where do I even begin?! I mean, it's all just ...</td>\n",
       "      <td>5</td>\n",
       "    </tr>\n",
       "    <tr>\n",
       "      <th>4</th>\n",
       "      <td>The system fell apart with covidSeniors don't ...</td>\n",
       "      <td>1</td>\n",
       "    </tr>\n",
       "    <tr>\n",
       "      <th>5</th>\n",
       "      <td>This is the museum of stolen goods. Anyone sho...</td>\n",
       "      <td>1</td>\n",
       "    </tr>\n",
       "    <tr>\n",
       "      <th>6</th>\n",
       "      <td>Amazing venue with jaw droppingly wonderful ar...</td>\n",
       "      <td>5</td>\n",
       "    </tr>\n",
       "    <tr>\n",
       "      <th>7</th>\n",
       "      <td>I last went thirty years ago. Was rather surpr...</td>\n",
       "      <td>3</td>\n",
       "    </tr>\n",
       "    <tr>\n",
       "      <th>8</th>\n",
       "      <td>One of the cultural landmarks of the U.K. if n...</td>\n",
       "      <td>5</td>\n",
       "    </tr>\n",
       "    <tr>\n",
       "      <th>9</th>\n",
       "      <td>The British Museum they call it. But there's a...</td>\n",
       "      <td>2</td>\n",
       "    </tr>\n",
       "  </tbody>\n",
       "</table>\n",
       "</div>"
      ],
      "text/plain": [
       "                                              review  sentiment\n",
       "0  Come feast your eyes on the finest collection ...          5\n",
       "1  [Pre-COVID post]Absolutely gorgeous museum wit...          5\n",
       "2  I love that British museum is free. I've been ...          5\n",
       "3  Where do I even begin?! I mean, it's all just ...          5\n",
       "4  The system fell apart with covidSeniors don't ...          1\n",
       "5  This is the museum of stolen goods. Anyone sho...          1\n",
       "6  Amazing venue with jaw droppingly wonderful ar...          5\n",
       "7  I last went thirty years ago. Was rather surpr...          3\n",
       "8  One of the cultural landmarks of the U.K. if n...          5\n",
       "9  The British Museum they call it. But there's a...          2"
      ]
     },
     "execution_count": 37,
     "metadata": {},
     "output_type": "execute_result"
    }
   ],
   "source": [
    "df"
   ]
  },
  {
   "cell_type": "markdown",
   "id": "f60e7ce1",
   "metadata": {},
   "source": [
    "There is now a column for sentiment score."
   ]
  },
  {
   "cell_type": "code",
   "execution_count": null,
   "id": "403aed30",
   "metadata": {},
   "outputs": [],
   "source": []
  }
 ],
 "metadata": {
  "kernelspec": {
   "display_name": "Python 3",
   "language": "python",
   "name": "python3"
  },
  "language_info": {
   "codemirror_mode": {
    "name": "ipython",
    "version": 3
   },
   "file_extension": ".py",
   "mimetype": "text/x-python",
   "name": "python",
   "nbconvert_exporter": "python",
   "pygments_lexer": "ipython3",
   "version": "3.8.8"
  }
 },
 "nbformat": 4,
 "nbformat_minor": 5
}
